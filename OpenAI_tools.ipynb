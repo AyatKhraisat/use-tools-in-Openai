{
 "cells": [
  {
   "cell_type": "markdown",
   "id": "17a4fcab-0070-4e8a-a00a-1b8cd8d02464",
   "metadata": {},
   "source": [
    "## OpenAI Tools\n",
    "### in this Demo we will use OpenAI tools to create chatbot for a VOD service to recommend movies to the users based on Genre, Cast and movie Overview.\n"
   ]
  },
  {
   "cell_type": "code",
   "execution_count": 61,
   "id": "7cb5598a-d547-4aa9-8ac7-bc2c4210a1e3",
   "metadata": {},
   "outputs": [],
   "source": [
    "import os\n",
    "import openai\n",
    "import json\n",
    "from dotenv import load_dotenv, find_dotenv\n",
    "from pandas.core.computation.expressions import evaluate\n",
    "%matplotlib inline\n",
    "import pandas as pd\n",
    "import numpy as np\n",
    "import matplotlib.pyplot as plt\n",
    "from scipy import stats\n",
    "from ast import literal_eval\n",
    "from sklearn.feature_extraction.text import TfidfVectorizer, CountVectorizer\n",
    "from sklearn.metrics.pairwise import linear_kernel, cosine_similarity\n",
    "import ast\n",
    "from openai import AzureOpenAI\n"
   ]
  },
  {
   "cell_type": "code",
   "execution_count": 66,
   "id": "8b27f322-3ab9-4dba-bb15-befec1b18220",
   "metadata": {},
   "outputs": [],
   "source": [
    "\n",
    "\n",
    "_=load_dotenv(find_dotenv()) \n",
    "\n",
    "AZURE_ENDPOINT =os.environ[\"AZURE_OPENAI_ENDPOINT\"]\n",
    "API_KEY= os.environ['OPENAI_API_KEY']\n",
    "API_VERSION=os.environ['api_version']\n",
    "OPENAI_DEPLOYMENT=os.environ[\"OPENAI_DEPLOYMENT\"]\n",
    "\n",
    "client = AzureOpenAI(\n",
    "  azure_endpoint =AZURE_ENDPOINT, \n",
    "  api_key= API_KEY,  \n",
    "  api_version=API_VERSION\n",
    ")\n",
    "\n",
    "\n"
   ]
  },
  {
   "cell_type": "markdown",
   "id": "6980f231-dc04-4ff4-bd00-e323771b986d",
   "metadata": {},
   "source": [
    "## Import and prepare Recommendation data "
   ]
  },
  {
   "cell_type": "code",
   "execution_count": 63,
   "id": "f76ae275-6086-437a-a730-4910092d5e10",
   "metadata": {},
   "outputs": [
    {
     "name": "stderr",
     "output_type": "stream",
     "text": [
      "C:\\Users\\v-akhrisat\\AppData\\Local\\Temp\\ipykernel_21068\\3260591196.py:2: DtypeWarning: Columns (10) have mixed types. Specify dtype option on import or set low_memory=False.\n",
      "  movies=pd.read_csv('the-movies-dataset/movies_metadata.csv')\n"
     ]
    }
   ],
   "source": [
    "\n",
    "\n",
    "credits=pd.read_csv('the-movies-dataset/credits.csv')\n",
    "movies=pd.read_csv('the-movies-dataset/movies_metadata.csv')\n",
    "\n",
    "import unicodedata\n",
    "import re\n",
    "def clean_data(value):\n",
    "    value =  unicodedata.normalize('NFD', value).encode('ascii', 'ignore').decode('ascii')\n",
    "    x= str.lower(re.sub(r\"[^a-zA-Z0-9]+\", '_', value.strip().replace(\" \",\"_\")))\n",
    "    if(x!='_'):\n",
    "        return x \n",
    "    else:\n",
    "        return \" \" \n",
    "    \n",
    "credits['id']=credits['id'].astype('str')\n",
    "training_df=(credits.merge(movies,on='id'))\n",
    "training_df['popularity']=training_df['popularity'].astype('float')\n",
    "training_df=training_df[['title','cast','genres','overview','popularity']]\n",
    "training_df['overview']=training_df['overview'].str.lower()\n",
    "training_df['cast']=training_df['cast'].apply(lambda s: list(ast.literal_eval(s)))\n",
    "training_df['cast'] = training_df['cast'].map(lambda x: x[:3] if len(x) >=4 else x)\n",
    "training_df['cast']=training_df['cast'].apply((lambda cast : [ clean_data(actor['name'])  for actor in cast  if actor != '' and actor != ' ' ]))\n",
    "training_df['genres']=training_df['genres'].apply(lambda s: list(ast.literal_eval(s)))\n",
    "training_df['genres']=training_df['genres'].apply((lambda genres : [ clean_data(genre['name'])  for genre in genres]))\n"
   ]
  },
  {
   "cell_type": "markdown",
   "id": "b4ff5fa8-5a53-4e34-bb86-df13c9d1fc5d",
   "metadata": {},
   "source": [
    "### Implement function to return the movie recommendation using genres, cast and overview "
   ]
  },
  {
   "cell_type": "code",
   "execution_count": 58,
   "id": "2996c382-2ba7-4236-a2a3-445cb04dedbe",
   "metadata": {},
   "outputs": [],
   "source": [
    "def get_top_recommendation(genre,cast=[],overview=None):\n",
    "\n",
    "    if genre is not None:\n",
    "        genre_filter = training_df['genres'].map(lambda u: clean_data(genre)  in u)\n",
    "        if cast is not None:\n",
    "            cast= [ clean_data(actor)  for actor in cast  if actor != '' and actor != ' ' ]\n",
    "            cast_filter = training_df['cast'].map(lambda c: set(cast).issubset(c))\n",
    "        if overview is not None:\n",
    "            overview_filter =training_df['overview'].str.contains(overview)\n",
    "\n",
    "\n",
    "        if cast is not None and overview is not None:    \n",
    "          result=training_df[genre_filter & cast_filter &overview_filter]\n",
    "        elif  cast is None and overview is not None:  \n",
    "             result=training_df[genre_filter  &overview_filter]\n",
    "        elif  cast is not None and overview is  None:  \n",
    "             result=training_df[genre_filter  &cast_filter   ]\n",
    "        else : \n",
    "             result=training_df[genre_filter]\n",
    "\n",
    "        if result.shape[0]>=1:\n",
    "                result= result.sort_values(by=['popularity'],ascending=False).head(10)\n",
    "                movie_name= result.iloc[np.random.randint(1, 9)]['title'] \n",
    "        if movie_name  is not None:\n",
    "       \n",
    "                return movie_name\n",
    "        else:\n",
    "                return  None\n",
    "\n",
    "    return None\n",
    "\n"
   ]
  },
  {
   "cell_type": "code",
   "execution_count": 59,
   "id": "75141e4d-b3a9-4b01-8afb-1178c0a622b2",
   "metadata": {},
   "outputs": [],
   "source": [
    "\n",
    "import random\n",
    "def get_movie_recommendation(genre,cast=[], overview=''):\n",
    "    move_name=get_top_recommendation(genre,cast,overview)\n",
    "    if move_name  is not None:\n",
    "        return { \"movie_name\": move_name}\n",
    "    else:\n",
    "        return  { \"movie_name\":'we could not find any movie'}"
   ]
  },
  {
   "cell_type": "code",
   "execution_count": 60,
   "id": "48e8ee5d-cce7-415c-998d-93d7e8a55214",
   "metadata": {},
   "outputs": [
    {
     "data": {
      "text/plain": [
       "{'movie_name': 'War for the Planet of the Apes'}"
      ]
     },
     "execution_count": 60,
     "metadata": {},
     "output_type": "execute_result"
    }
   ],
   "source": [
    "get_movie_recommendation('Drama')"
   ]
  },
  {
   "cell_type": "markdown",
   "id": "469b2d67-b997-4723-9e21-8e124df5269c",
   "metadata": {},
   "source": [
    "## Define Tool Schema for OpenAI "
   ]
  },
  {
   "cell_type": "code",
   "execution_count": 6,
   "id": "c35327fd-c3f4-4ee7-adea-c5e6515a4bb0",
   "metadata": {},
   "outputs": [],
   "source": [
    "# define a function\n",
    "tools = [\n",
    "    {\n",
    "        \"type\": \"function\",\n",
    "        \"function\": {\n",
    "        \"name\": \"get_movie_recommendation\",\n",
    "        \"description\": \"use this function only when user ask you for a movie recomendation based on genre, cast or  overview. \",\n",
    "        \"parameters\": {\n",
    "            \"type\": \"object\",\n",
    "            \"properties\": {\n",
    "                \"genre\": {\n",
    "                    \"type\": \"string\",\n",
    "                    \"description\": \"The movie genre like Sci-Fi, Drama, Romance\",\n",
    "                },\n",
    "            \"cast\": {\n",
    "             \"type\": \"array\",\n",
    "              \"items\": {\n",
    "                   \"type\": \"string\",\n",
    "                    \"description\": \"The movie casts member could be more than one actor\",\n",
    "              }}\n",
    "                , \"overview\": {\n",
    "                                    \"type\": \"string\",  \n",
    "                    \"description\": \"part of movie description like War, Race,Family... \",\n",
    "                            },\n",
    "                  },\n",
    "            \"required\": [\"genre\"],\n",
    "      \n",
    "    }\n",
    "    }\n",
    "    }\n",
    "]\n"
   ]
  },
  {
   "cell_type": "markdown",
   "id": "709dacbc-bcf2-4898-b27b-fc69a3415205",
   "metadata": {},
   "source": [
    "### Sci-FI has typo but OpenAI was able to return the correct spelling"
   ]
  },
  {
   "cell_type": "code",
   "execution_count": 7,
   "id": "fb4978f6-63d0-4625-a363-1c1c63602e2a",
   "metadata": {},
   "outputs": [
    {
     "data": {
      "text/plain": [
       "[Choice(finish_reason='tool_calls', index=0, logprobs=None, message=ChatCompletionMessage(content=None, role='assistant', function_call=None, tool_calls=[ChatCompletionMessageToolCall(id='call_cDWcSFVsewimgfoaV6IBOG9r', function=Function(arguments='{\"genre\":\"Sci-Fi\"}', name='get_movie_recommendation'), type='function')]), content_filter_results={})]"
      ]
     },
     "execution_count": 7,
     "metadata": {},
     "output_type": "execute_result"
    }
   ],
   "source": [
    "\n",
    "messages = [\n",
    "    {\n",
    "        \"role\": \"user\",\n",
    "        \"content\": \"recommend me a Si-Fi movie\"\n",
    "    }\n",
    "]\n",
    "response = client.chat.completions.create(\n",
    "    model=OPENAI_DEPLOYMENT,\n",
    "    messages=messages,\n",
    "    tools=tools\n",
    ")\n",
    "\n",
    "response.choices"
   ]
  },
  {
   "cell_type": "markdown",
   "id": "b82b3651-65ce-47ab-bede-63b8e37de334",
   "metadata": {},
   "source": [
    "### Include muliple arguments\n"
   ]
  },
  {
   "cell_type": "code",
   "execution_count": 8,
   "id": "fe4562e8-7352-486a-9c4d-5b9cd2dd9579",
   "metadata": {},
   "outputs": [
    {
     "data": {
      "text/plain": [
       "[Choice(finish_reason='tool_calls', index=0, logprobs=None, message=ChatCompletionMessage(content=None, role='assistant', function_call=None, tool_calls=[ChatCompletionMessageToolCall(id='call_qemCV2lqzIvdScAGVocOHpe5', function=Function(arguments='{\"genre\":\"Sci-Fi\",\"overview\":\"space\"}', name='get_movie_recommendation'), type='function')]), content_filter_results={})]"
      ]
     },
     "execution_count": 8,
     "metadata": {},
     "output_type": "execute_result"
    }
   ],
   "source": [
    "# Sci-FI has typo but OpenAI was able to get the correct spelling\n",
    "messages = [\n",
    "    {\n",
    "        \"role\": \"user\",\n",
    "        \"content\": \"recommend me a Sci-Fi movie talks about space\"\n",
    "    }\n",
    "]\n",
    "response = client.chat.completions.create(\n",
    "    model=OPENAI_DEPLOYMENT,\n",
    "    messages=messages,\n",
    "    tools=tools\n",
    ")\n",
    "response.choices"
   ]
  },
  {
   "cell_type": "markdown",
   "id": "117037c4-3716-433b-bec0-bab1675cb30f",
   "metadata": {},
   "source": [
    "### Check if the function will be called, if the user didn't request recommendation"
   ]
  },
  {
   "cell_type": "code",
   "execution_count": 9,
   "id": "c9b2a5e1-93d1-4be9-a26e-2ab5a4ba53b8",
   "metadata": {},
   "outputs": [
    {
     "data": {
      "text/plain": [
       "[Choice(finish_reason='stop', index=0, logprobs=None, message=ChatCompletionMessage(content='Yes, one of the most famous Sci-Fi movies is \"Blade Runner\" directed by Ridley Scott. It\\'s a classic from 1982, set in a dystopian future where synthetic humans known as replicants are bio-engineered by powerful corporations. The story follows Rick Deckard, a \"blade runner\" who is tasked with hunting down and \"retiring\" rogue replicants. The film is highly regarded for its futuristic vision, philosophical depth, and groundbreaking special effects.', role='assistant', function_call=None, tool_calls=None), content_filter_results={'hate': {'filtered': False, 'severity': 'safe'}, 'self_harm': {'filtered': False, 'severity': 'safe'}, 'sexual': {'filtered': False, 'severity': 'safe'}, 'violence': {'filtered': False, 'severity': 'safe'}})]"
      ]
     },
     "execution_count": 9,
     "metadata": {},
     "output_type": "execute_result"
    }
   ],
   "source": [
    "# check it the model will call the tool\n",
    "messages = [\n",
    "    {\n",
    "        \"role\": \"user\",\n",
    "        \"content\": \"do you know a famous Sci-Fi movie\"\n",
    "    }\n",
    "]\n",
    "response = client.chat.completions.create(\n",
    "    model=OPENAI_DEPLOYMENT,\n",
    "    messages=messages,\n",
    "    tools=tools\n",
    ")\n",
    "response.choices"
   ]
  },
  {
   "cell_type": "markdown",
   "id": "41f29fed-d1bf-4ec5-808a-fce019b3e4f0",
   "metadata": {},
   "source": [
    "## Check if the OpenAI will determine the cast full names "
   ]
  },
  {
   "cell_type": "code",
   "execution_count": 458,
   "id": "795e7288-65c0-47bd-b0ce-c750a1c22d9d",
   "metadata": {},
   "outputs": [
    {
     "data": {
      "text/plain": [
       "[Choice(finish_reason='tool_calls', index=0, logprobs=None, message=ChatCompletionMessage(content=None, role='assistant', function_call=None, tool_calls=[ChatCompletionMessageToolCall(id='call_Lmdu4za9UUfeq1gR6Y23cKAX', function=Function(arguments='{\"genre\":\"Drama\",\"cast\":[\"Brad Pitt\",\"Angelina Jolie\"],\"overview\":\"space\"}', name='get_movie_recommendation'), type='function')]), content_filter_results={})]"
      ]
     },
     "execution_count": 458,
     "metadata": {},
     "output_type": "execute_result"
    }
   ],
   "source": [
    "# determine the Actors names\n",
    "messages = [\n",
    "    {\n",
    "        \"role\": \"user\",\n",
    "        \"content\": \"recommend me a Drama movie talks about space has Brad and Angelina acting in it\"\n",
    "    }\n",
    "]\n",
    "response = client.chat.completions.create(\n",
    "    model=OPENAI_DEPLOYMENT,\n",
    "    messages=messages,\n",
    "    tools=tools\n",
    ")\n",
    "response.choices"
   ]
  },
  {
   "cell_type": "markdown",
   "id": "e56744c9-00c8-4643-ac57-a1856215be7e",
   "metadata": {},
   "source": [
    "## Check if OpenAI will ask for the function  arguments "
   ]
  },
  {
   "cell_type": "code",
   "execution_count": 319,
   "id": "22722932-81e7-40a8-8c8d-9956c56571e1",
   "metadata": {},
   "outputs": [
    {
     "data": {
      "text/plain": [
       "[Choice(finish_reason='stop', index=0, logprobs=None, message=ChatCompletionMessage(content=\"I can help you with that! Could you please provide me with some details like the genre, any favorite actors, or a specific type of storyline or theme you're in the mood for? This will help me give you a more tailored recommendation.\", role='assistant', function_call=None, tool_calls=None), content_filter_results={'hate': {'filtered': False, 'severity': 'safe'}, 'self_harm': {'filtered': False, 'severity': 'safe'}, 'sexual': {'filtered': False, 'severity': 'safe'}, 'violence': {'filtered': False, 'severity': 'safe'}})]"
      ]
     },
     "execution_count": 319,
     "metadata": {},
     "output_type": "execute_result"
    }
   ],
   "source": [
    "# model asking for arguments\n",
    "messages = [\n",
    "    {\n",
    "        \"role\": \"user\",\n",
    "        \"content\": \"recommend me a movie for the night\"\n",
    "    }\n",
    "]\n",
    "response = client.chat.completions.create(\n",
    "    model=OPENAI_DEPLOYMENT,\n",
    "    messages=messages,\n",
    "    tools=tools\n",
    ")\n",
    "response.choices"
   ]
  },
  {
   "cell_type": "markdown",
   "id": "2ffc87f0-74c5-494f-8bd7-7798070bf675",
   "metadata": {},
   "source": [
    "## Check if  OpenAI will validate for the function arguments"
   ]
  },
  {
   "cell_type": "code",
   "execution_count": 64,
   "id": "85321847-26dc-4c45-9b00-2a864e2d264c",
   "metadata": {},
   "outputs": [
    {
     "data": {
      "text/plain": [
       "[Choice(finish_reason='stop', index=0, logprobs=None, message=ChatCompletionMessage(content='It looks like \"xyz\" might not be a valid genre. Could you please provide a specific genre such as Sci-Fi, Drama, Romance, or another genre you\\'re interested in? This will help me recommend a movie you\\'ll enjoy!', role='assistant', function_call=None, tool_calls=None), content_filter_results={'hate': {'filtered': False, 'severity': 'safe'}, 'self_harm': {'filtered': False, 'severity': 'safe'}, 'sexual': {'filtered': False, 'severity': 'safe'}, 'violence': {'filtered': False, 'severity': 'safe'}})]"
      ]
     },
     "execution_count": 64,
     "metadata": {},
     "output_type": "execute_result"
    }
   ],
   "source": [
    "# Sci-FI has typo but OpenAI was able to get the correct spelling\n",
    "messages = [\n",
    "    {\n",
    "        \"role\": \"user\",\n",
    "        \"content\": \"recommend me a movie with  genre xyz \"\n",
    "    }\n",
    "]\n",
    "response = client.chat.completions.create(\n",
    "    model=OPENAI_DEPLOYMENT,\n",
    "    messages=messages,\n",
    "    tools=tools\n",
    ")\n",
    "response.choices"
   ]
  },
  {
   "cell_type": "markdown",
   "id": "1918c230-dce4-40e7-b079-6c92c83b8e14",
   "metadata": {},
   "source": [
    "## Return the function result to the Model"
   ]
  },
  {
   "cell_type": "code",
   "execution_count": 10,
   "id": "be74350f-2314-4cad-8067-8db5d4e8a225",
   "metadata": {},
   "outputs": [
    {
     "data": {
      "text/plain": [
       "[Choice(finish_reason='tool_calls', index=0, logprobs=None, message=ChatCompletionMessage(content=None, role='assistant', function_call=None, tool_calls=[ChatCompletionMessageToolCall(id='call_moa6BQq3fouKGZGQFeIbjP5M', function=Function(arguments='{\"genre\":\"Action\",\"cast\":[\"Vin Diesel\"]}', name='get_movie_recommendation'), type='function')]), content_filter_results={})]"
      ]
     },
     "execution_count": 10,
     "metadata": {},
     "output_type": "execute_result"
    }
   ],
   "source": [
    "# determine the actor name \n",
    "messages = [\n",
    "    {\n",
    "        \"role\": \"user\",\n",
    "        \"content\": \"recommend me a Action movie has XXX acting in it\"\n",
    "    }\n",
    "]\n",
    "response = client.chat.completions.create(\n",
    "    model=OPENAI_DEPLOYMENT,\n",
    "    messages=messages,\n",
    "    tools=tools\n",
    ")\n",
    "response.choices"
   ]
  },
  {
   "cell_type": "code",
   "execution_count": 11,
   "id": "4a6f8715-70f4-49bc-80f4-f8400735c96c",
   "metadata": {},
   "outputs": [
    {
     "name": "stdout",
     "output_type": "stream",
     "text": [
      "Model's response:\n",
      "ChatCompletionMessage(content=None, role='assistant', function_call=None, tool_calls=[ChatCompletionMessageToolCall(id='call_moa6BQq3fouKGZGQFeIbjP5M', function=Function(arguments='{\"genre\":\"Action\",\"cast\":[\"Vin Diesel\"]}', name='get_movie_recommendation'), type='function')])\n",
      "get_movie_recommendation\n",
      "Function arguments: {'genre': 'Action', 'cast': ['Vin Diesel']}\n",
      "The Fate of the Furious\n"
     ]
    }
   ],
   "source": [
    "    response_message = response.choices[0].message\n",
    "    messages.append(response_message)\n",
    "\n",
    "    print(\"Model's response:\")  \n",
    "    print(response_message)  \n",
    "\n",
    "    if response_message.tool_calls:\n",
    "        for tool_call in response_message.tool_calls:\n",
    "            print(tool_call.function.name)\n",
    "            if tool_call.function.name == \"get_movie_recommendation\":\n",
    "                function_args = json.loads(tool_call.function.arguments)\n",
    "                print(f\"Function arguments: {function_args}\")    \n",
    "                recommendations = get_movie_recommendation(**function_args)['movie_name']\n",
    "                print(recommendations)\n",
    "                messages.append({\n",
    "                    \"tool_call_id\": tool_call.id,\n",
    "                    \"role\": \"atool\",\n",
    "                    \"name\": \"get_movie_recommendation\",\n",
    "                    \"content\": recommendations,\n",
    "                })\n",
    "    else:\n",
    "        print(\"No tool calls were made by the model.\")  "
   ]
  },
  {
   "cell_type": "code",
   "execution_count": null,
   "id": "21f6c918-a45b-426b-9964-8540f0f1a0bf",
   "metadata": {},
   "outputs": [],
   "source": []
  }
 ],
 "metadata": {
  "kernelspec": {
   "display_name": "Python 3 (ipykernel)",
   "language": "python",
   "name": "python3"
  },
  "language_info": {
   "codemirror_mode": {
    "name": "ipython",
    "version": 3
   },
   "file_extension": ".py",
   "mimetype": "text/x-python",
   "name": "python",
   "nbconvert_exporter": "python",
   "pygments_lexer": "ipython3",
   "version": "3.11.9"
  }
 },
 "nbformat": 4,
 "nbformat_minor": 5
}
