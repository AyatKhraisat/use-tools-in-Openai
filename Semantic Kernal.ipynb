{
 "cells": [
  {
   "cell_type": "markdown",
   "id": "5fb81775-7b75-48e9-8907-f2aab3f7e7f4",
   "metadata": {},
   "source": [
    "## in this Demo we will use Semantic Kernal to create chatbot for a VOD service to recommend movies to the users based on Genre, Cast and movie Overview."
   ]
  },
  {
   "cell_type": "code",
   "execution_count": 28,
   "id": "54e0bb08-00ce-4ebe-874a-68a29ab2ec02",
   "metadata": {},
   "outputs": [],
   "source": [
    "from typing import List, Optional, TypedDict, Annotated\n",
    "from typing import Annotated\n",
    "from semantic_kernel.functions import kernel_function\n",
    "import os\n",
    "import openai\n",
    "import ast\n",
    "import json\n",
    "import random\n",
    "from dotenv import load_dotenv, find_dotenv\n",
    "from openai import AzureOpenAI\n",
    "import asyncio\n",
    "from semantic_kernel import Kernel\n",
    "from semantic_kernel.functions import kernel_function\n",
    "from semantic_kernel.connectors.ai.open_ai import AzureChatCompletion\n",
    "from semantic_kernel.connectors.ai.function_call_behavior import FunctionCallBehavior\n",
    "from semantic_kernel.connectors.ai.chat_completion_client_base import ChatCompletionClientBase\n",
    "from semantic_kernel.contents.chat_history import ChatHistory\n",
    "from semantic_kernel.functions.kernel_arguments import KernelArguments\n",
    "import asyncio\n",
    "import pandas as pd\n",
    "import numpy as np\n",
    "import logging\n",
    "from semantic_kernel import Kernel\n",
    "from semantic_kernel.functions import kernel_function\n",
    "from semantic_kernel.connectors.ai.open_ai import AzureChatCompletion\n",
    "from semantic_kernel.connectors.ai.function_call_behavior import FunctionCallBehavior\n",
    "from semantic_kernel.connectors.ai.chat_completion_client_base import ChatCompletionClientBase\n",
    "from semantic_kernel.contents.chat_history import ChatHistory\n",
    "from semantic_kernel.functions.kernel_arguments import KernelArguments\n",
    "from semantic_kernel.connectors.ai.open_ai.prompt_execution_settings.azure_chat_prompt_execution_settings import (\n",
    "    AzureChatPromptExecutionSettings,\n",
    ")\n",
    "from semantic_kernel.connectors.ai.open_ai.prompt_execution_settings.azure_chat_prompt_execution_settings import (\n",
    "    AzureChatPromptExecutionSettings,\n",
    ")"
   ]
  },
  {
   "cell_type": "code",
   "execution_count": 29,
   "id": "1441e73b-8d8d-4046-b03a-98af7c58e276",
   "metadata": {},
   "outputs": [
    {
     "name": "stderr",
     "output_type": "stream",
     "text": [
      "C:\\Users\\v-akhrisat\\AppData\\Local\\Temp\\ipykernel_20608\\3260591196.py:2: DtypeWarning: Columns (10) have mixed types. Specify dtype option on import or set low_memory=False.\n",
      "  movies=pd.read_csv('the-movies-dataset/movies_metadata.csv')\n"
     ]
    }
   ],
   "source": [
    "\n",
    "\n",
    "credits=pd.read_csv('the-movies-dataset/credits.csv')\n",
    "movies=pd.read_csv('the-movies-dataset/movies_metadata.csv')\n",
    "\n",
    "import unicodedata\n",
    "import re\n",
    "def clean_data(value):\n",
    "    value =  unicodedata.normalize('NFD', value).encode('ascii', 'ignore').decode('ascii')\n",
    "    x= str.lower(re.sub(r\"[^a-zA-Z0-9]+\", '_', value.strip().replace(\" \",\"_\")))\n",
    "    if(x!='_'):\n",
    "        return x \n",
    "    else:\n",
    "        return \" \" \n",
    "    \n",
    "credits['id']=credits['id'].astype('str')\n",
    "training_df=(credits.merge(movies,on='id'))\n",
    "training_df['popularity']=training_df['popularity'].astype('float')\n",
    "training_df=training_df[['title','cast','genres','overview','popularity']]\n",
    "training_df['overview']=training_df['overview'].str.lower()\n",
    "training_df['cast']=training_df['cast'].apply(lambda s: list(ast.literal_eval(s)))\n",
    "training_df['cast'] = training_df['cast'].map(lambda x: x[:3] if len(x) >=4 else x)\n",
    "training_df['cast']=training_df['cast'].apply((lambda cast : [ clean_data(actor['name'])  for actor in cast  if actor != '' and actor != ' ' ]))\n",
    "training_df['genres']=training_df['genres'].apply(lambda s: list(ast.literal_eval(s)))\n",
    "training_df['genres']=training_df['genres'].apply((lambda genres : [ clean_data(genre['name'])  for genre in genres]))\n"
   ]
  },
  {
   "cell_type": "code",
   "execution_count": 43,
   "id": "80b907f1-1511-4816-a3c6-009312544123",
   "metadata": {},
   "outputs": [
    {
     "ename": "SyntaxError",
     "evalue": "unterminated string literal (detected at line 28) (2806366464.py, line 28)",
     "output_type": "error",
     "traceback": [
      "\u001b[1;36m  Cell \u001b[1;32mIn[43], line 28\u001b[1;36m\u001b[0m\n\u001b[1;33m    else : \"\u001b[0m\n\u001b[1;37m           ^\u001b[0m\n\u001b[1;31mSyntaxError\u001b[0m\u001b[1;31m:\u001b[0m unterminated string literal (detected at line 28)\n"
     ]
    }
   ],
   "source": [
    "\n",
    "\n",
    "class Recommendations:\n",
    " \n",
    "       \n",
    "    @kernel_function(\n",
    "        description=\"use this function only when user ask you for a movie recomendation based on genre, cast or  overview\",\n",
    "        name=\"get_movie_recommendation\",\n",
    "    )     \n",
    "    async def get_movie_recommendation(self,genre:Annotated[str, \"The movie genres like Sci-Fi, Drama, Romance\"],\n",
    "                                 cast:Annotated[List[str], \"The movie cast could be more than one actor\"]\n",
    "                                 , overview:Annotated[str, \"part of movie description like War, Race,Family...\"]):\n",
    "   \n",
    "         movie_name=None\n",
    "         if genre is not None:\n",
    "            genre_filter = training_df['genres'].map(lambda u: clean_data(genre)  in u)\n",
    "            if cast is not None:\n",
    "                cast= [ clean_data(actor)  for actor in cast  if actor != '' and actor != ' ' ]\n",
    "                cast_filter = training_df['cast'].map(lambda c: set(cast).issubset(c))\n",
    "            if overview is not None:\n",
    "                overview_filter =training_df['overview'].str.contains(overview)\n",
    "    \n",
    "    \n",
    "            if cast is not None and overview is not None:    \n",
    "              result=training_df[genre_filter & cast_filter &overview_filter]\n",
    "            elif  cast is None and overview is not None:  \n",
    "                 result=training_df[genre_filter  &overview_filter]\n",
    "            elif  cast is not None and overview is  None:  \n",
    "                 result=training_df[genre_filter  &cast_filter   ]\n",
    "            else : \"\n",
    "                 result=training_df[genre_filt\"er]\n",
    "    \n",
    "            if result.shape[0]>=1:\n",
    "                   movie_name =result.sort_values(by=['popularity'],ascending=False).head(1)['title'].item()\n",
    "         if movie_name  is not None:\n",
    "                print(movie_name)   \n",
    "                return { \"movie_name\": movie_name}\n",
    "         else:\n",
    "                return  { \"movie_name\":'we could not find any movie'}\n",
    "\n"
   ]
  },
  {
   "cell_type": "code",
   "execution_count": 44,
   "id": "3b5a4685-f644-45f0-a3ab-1c8839a8ce18",
   "metadata": {},
   "outputs": [],
   "source": [
    "_=load_dotenv(find_dotenv()) \n",
    "\n",
    "AZURE_ENDPOINT =os.environ[\"AZURE_OPENAI_ENDPOINT\"]\n",
    "API_KEY= os.environ['OPENAI_API_KEY']\n",
    "API_VERSION=os.environ['api_version']\n",
    "OPENAI_DEPLOYMENT=os.environ[\"OPENAI_DEPLOYMENT\"]\n"
   ]
  },
  {
   "cell_type": "code",
   "execution_count": null,
   "id": "4133779c-6b81-4c22-854c-2bdd407a5caa",
   "metadata": {},
   "outputs": [
    {
     "name": "stderr",
     "output_type": "stream",
     "text": [
      "C:\\Users\\v-akhrisat\\AppData\\Local\\Temp\\ipykernel_20608\\474962906.py:29: DeprecationWarning: Use the `FunctionChoiceBehavior` `Auto` class method instead.\n",
      "  execution_settings.function_call_behavior = FunctionCallBehavior.EnableFunctions(auto_invoke=True, filters={})\n",
      "[2024-08-08 00:25:36 - semantic_kernel.connectors.ai.open_ai.prompt_execution_settings.open_ai_prompt_execution_settings:103 - WARNING] The `function_call_behavior` parameter is deprecated. Please use the `function_choice_behavior` parameter instead.\n"
     ]
    },
    {
     "name": "stdin",
     "output_type": "stream",
     "text": [
      "User >  recommend action moive\n"
     ]
    },
    {
     "name": "stdout",
     "output_type": "stream",
     "text": [
      "Assistant > I recommend the action movie **\"Wonder Woman.\"** It's filled with thrilling sequences and an engaging storyline. Enjoy!\n"
     ]
    },
    {
     "name": "stdin",
     "output_type": "stream",
     "text": [
      "User >  Recommend Drama movie\n"
     ]
    },
    {
     "name": "stdout",
     "output_type": "stream",
     "text": [
      "Assistant > I recommend the drama movie **\"Gone Girl.\"** It's a captivating and intense film with a complex plot. Enjoy watching!\n"
     ]
    }
   ],
   "source": [
    "\n",
    "async def main():\n",
    "    # Initialize the kernel\n",
    "    kernel = Kernel()\n",
    " \n",
    "    kernel.add_service(AzureChatCompletion(\n",
    "      deployment_name=OPENAI_DEPLOYMENT,\n",
    "      api_key=API_KEY,\n",
    "      api_version=  API_VERSION,\n",
    "      endpoint=AZURE_ENDPOINT\n",
    "    ))\n",
    "\n",
    "\n",
    "    # Set the logging level for  semantic_kernel.kernel to DEBUG.\n",
    "    logging.basicConfig(\n",
    "        format=\"[%(asctime)s - %(name)s:%(lineno)d - %(levelname)s] %(message)s\",\n",
    "        datefmt=\"%Y-%m-%d %H:%M:%S\",\n",
    "    )\n",
    "    logging.getLogger(\"kernel\").setLevel(logging.DEBUG)\n",
    "\n",
    "    kernel.add_plugin(\n",
    "        Recommendations(),\n",
    "        plugin_name=\"recommendations\",\n",
    "    )\n",
    "\n",
    "    chat_completion : AzureChatCompletion = kernel.get_service(type=ChatCompletionClientBase)\n",
    "\n",
    "    # Enable planning\n",
    "    execution_settings = AzureChatPromptExecutionSettings(tool_choice=\"auto\")\n",
    "    execution_settings.function_call_behavior = FunctionCallBehavior.EnableFunctions(auto_invoke=True, filters={})\n",
    "\n",
    "    # Create a history of the conversation\n",
    "    history = ChatHistory()\n",
    "\n",
    "    # Initiate a back-and-forth chat\n",
    "    userInput = None\n",
    "    while True:\n",
    "        # Collect user input\n",
    "        userInput = input(\"User > \")\n",
    "\n",
    "        # Terminate the loop if the user says \"exit\"\n",
    "        if userInput == \"exit\":\n",
    "            break\n",
    "\n",
    "        # Add user input to the history\n",
    "        history.add_user_message(userInput)\n",
    "\n",
    "        # Get the response from the AI\n",
    "        result = (await chat_completion.get_chat_message_contents(\n",
    "            chat_history=history,\n",
    "            settings=execution_settings,\n",
    "            kernel=kernel,\n",
    "            arguments=KernelArguments(),\n",
    "        ))[0]\n",
    "\n",
    "        # Print the results\n",
    "        print(\"Assistant > \" + str(result))\n",
    "\n",
    "        # Add the message from the agent to the chat history\n",
    "        history.add_message(result)\n",
    "\n",
    "await main()"
   ]
  },
  {
   "cell_type": "code",
   "execution_count": null,
   "id": "0a073c5a-e247-4a27-a7f6-f5751e9f37bd",
   "metadata": {},
   "outputs": [],
   "source": []
  }
 ],
 "metadata": {
  "kernelspec": {
   "display_name": "Python 3 (ipykernel)",
   "language": "python",
   "name": "python3"
  },
  "language_info": {
   "codemirror_mode": {
    "name": "ipython",
    "version": 3
   },
   "file_extension": ".py",
   "mimetype": "text/x-python",
   "name": "python",
   "nbconvert_exporter": "python",
   "pygments_lexer": "ipython3",
   "version": "3.11.9"
  }
 },
 "nbformat": 4,
 "nbformat_minor": 5
}
